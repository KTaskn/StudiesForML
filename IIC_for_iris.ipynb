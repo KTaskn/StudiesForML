{
  "nbformat": 4,
  "nbformat_minor": 0,
  "metadata": {
    "colab": {
      "name": "IIC_for_iris",
      "provenance": [],
      "collapsed_sections": [],
      "authorship_tag": "ABX9TyNt5t6IoY9uiAvTOzwytIPW",
      "include_colab_link": true
    },
    "kernelspec": {
      "name": "python3",
      "display_name": "Python 3"
    }
  },
  "cells": [
    {
      "cell_type": "markdown",
      "metadata": {
        "id": "view-in-github",
        "colab_type": "text"
      },
      "source": [
        "<a href=\"https://colab.research.google.com/github/KTaskn/StudiesForML/blob/master/IIC_for_iris.ipynb\" target=\"_parent\"><img src=\"https://colab.research.google.com/assets/colab-badge.svg\" alt=\"Open In Colab\"/></a>"
      ]
    },
    {
      "cell_type": "code",
      "metadata": {
        "id": "TCJYP5OmF9nD",
        "colab_type": "code",
        "colab": {}
      },
      "source": [
        "import torch\n",
        "\n",
        "class IIC(torch.nn.Module):\n",
        "    def __init__(self):\n",
        "      super(IIC, self).__init__()\n",
        "\n",
        "    def IIC(self, z, zt, C):\n",
        "      P = (z.unsqueeze(2) * zt.unsqueeze(1)).sum(dim=0)\n",
        "      P = ((P + P.t()) / 2) / P.sum()\n",
        "      EPS = torch.finfo(P.dtype).eps\n",
        "      P[(P < EPS).data] = EPS\n",
        "      Pi = P.sum(dim=1).view(C, 1).expand(C, C)\n",
        "      Pj = P.sum(dim=0).view(1, C).expand(C, C)\n",
        "\n",
        "      # 論文中の式は計算間違っているのでは？\n",
        "      # (P * (log(Pi) + log(Pj) - log(P))).sum() (元計算)\n",
        "\n",
        "      # 損失関数なので、最大化->最小化に切り替えるために負にする\n",
        "      loss = (-1.0 * P * (torch.log(P) - torch.log(Pi) - torch.log(Pj))).sum()\n",
        "      return loss\n",
        "\n",
        "    def forward(self, Z, ZT, C=3):\n",
        "      # headと呼んでいる処理のためにこのような計算になる\n",
        "      # headで学習が早くなるのだが、なぜ早くなるのかは不勉強。。コメント待っています。\n",
        "      return torch.sum(torch.stack([\n",
        "                self.IIC(z, zt, C) for z, zt in zip(Z, ZT)\n",
        "              ]))"
      ],
      "execution_count": 0,
      "outputs": []
    },
    {
      "cell_type": "code",
      "metadata": {
        "id": "kjsXmuZHGBxq",
        "colab_type": "code",
        "colab": {}
      },
      "source": [
        "from torch.utils.data import Dataset\n",
        "from sklearn.datasets import load_iris\n",
        "import pandas as pd\n",
        "\n",
        "class Iris_forIIC(Dataset):\n",
        "    def __init__(self):\n",
        "      # irisデータセットをロード\n",
        "      iris = load_iris()\n",
        "      self.df = pd.DataFrame(iris.data).assign(label=iris.target)\n",
        "\n",
        "    def __len__(self):\n",
        "        return len(self.df.index)\n",
        "\n",
        "    def __getitem__(self, idx):\n",
        "      # idx行目を取り出して、データとラベルにわける\n",
        "      row = self.df.iloc[idx].values\n",
        "      label = row[4]\n",
        "\n",
        "      # データはTensorのfloat型じゃないといけない\n",
        "      data_target = torch.from_numpy(row[:4]).float()\n",
        "      # IICのキモ！\n",
        "      # 今回は雑に元データにノイズをのっける。\n",
        "      data_other = torch.from_numpy(row[:4]).float() * torch.normal(torch.tensor(1).float(), torch.tensor(0.1).float())\n",
        "\n",
        "      return data_target, data_other"
      ],
      "execution_count": 0,
      "outputs": []
    },
    {
      "cell_type": "code",
      "metadata": {
        "id": "o1wLeFPoGExi",
        "colab_type": "code",
        "colab": {}
      },
      "source": [
        "import torch.nn as nn\n",
        "class Net(nn.Module):\n",
        "    def __init__(self):\n",
        "        super(Net, self).__init__()\n",
        "        # irisデータにあわせて4次元入力の、3次元出力。\n",
        "        self.nn = nn.Sequential(\n",
        "            nn.Linear(4, 100),\n",
        "            # バッチ正規化を利用しないと学習が進まない\n",
        "            nn.BatchNorm1d(100),\n",
        "            nn.ReLU(),\n",
        "            nn.Linear(100, 50),\n",
        "            nn.BatchNorm1d(50),\n",
        "            nn.ReLU(),\n",
        "            nn.Linear(50, 3),\n",
        "            nn.BatchNorm1d(3),\n",
        "            nn.ReLU())\n",
        "\n",
        "      # 普通の教師ありなら下記のようなモデルで十分\n",
        "      # self.nn = nn.Sequential(\n",
        "      #     nn.Linear(4, 100),\n",
        "      #     nn.ReLU(),\n",
        "      #     nn.Linear(100, 50),\n",
        "      #     nn.ReLU(),\n",
        "      #     nn.Linear(50, 3))\n",
        "\n",
        "    def forward(self, x):\n",
        "        # headと呼んでいる処理。不勉強で何しているかわからない。\n",
        "        # 学習がとても早くなる。\n",
        "        return [F.softmax(self.nn(x), dim=1) for _ in range(5)]\n",
        "        # return F.softmax(self.nn(x), dim=1)"
      ],
      "execution_count": 0,
      "outputs": []
    },
    {
      "cell_type": "code",
      "metadata": {
        "id": "xd_-p06pGHC2",
        "colab_type": "code",
        "colab": {
          "base_uri": "https://localhost:8080/",
          "height": 68
        },
        "outputId": "ba92bd4d-cb3b-46bd-8395-ab4fd72a8f0c"
      },
      "source": [
        "import torch.optim as optim\n",
        "import torch.nn.functional as F\n",
        "from sklearn.metrics import confusion_matrix\n",
        "\n",
        "# cpu/gpuを指定\n",
        "device = torch.device('cpu')\n",
        "# モデルを生成\n",
        "model = Net()\n",
        "model = model.to(device)\n",
        "# 損失関数\n",
        "criterion = IIC()\n",
        "# 最適化関数\n",
        "optimizer = optim.Adam(model.parameters(), lr=0.0001)\n",
        "\n",
        "# Dataloader\n",
        "kwargs = {'num_workers': 1, 'pin_memory': True}\n",
        "train_set = Iris_forIIC()\n",
        "train_loader = torch.utils.data.DataLoader(train_set, batch_size=len(train_set), shuffle=True, **kwargs)\n",
        "\n",
        "EPOCH = 250\n",
        "for idx in range(EPOCH):\n",
        "  model.train()\n",
        "  for X, XT in train_loader:\n",
        "    # 元データ\n",
        "    X = X.to(device)\n",
        "    # ノイズ付与データ\n",
        "    XT = XT.to(device)\n",
        "    # XとXTについてそれぞれ分類\n",
        "    Z = model(X)\n",
        "    ZT = model(XT)\n",
        "    # 損失=相互情報量を計算\n",
        "    loss = criterion(Z, ZT)\n",
        "\n",
        "    # 勾配計算・学習\n",
        "    optimizer.zero_grad()\n",
        "    loss.backward()\n",
        "    optimizer.step()\n",
        "\n",
        "# 学習済みモデルを評価\n",
        "model.eval()\n",
        "# irisデータを読み込み\n",
        "iris = load_iris()\n",
        "df_iris = pd.DataFrame(iris.data).assign(label=iris.target)\n",
        "X = torch.Tensor(df_iris.drop('label', axis=1).values).to(device)\n",
        "Y_predict = model.nn(X).argmax(1).cpu()\n",
        "Y_actual = df_iris['label'].values\n",
        "# 混同行列を表示\n",
        "display(confusion_matrix(Y_actual, Y_predict))"
      ],
      "execution_count": 4,
      "outputs": [
        {
          "output_type": "display_data",
          "data": {
            "text/plain": [
              "array([[49,  0,  1],\n",
              "       [ 0,  2, 48],\n",
              "       [ 0, 45,  5]])"
            ]
          },
          "metadata": {
            "tags": []
          }
        }
      ]
    }
  ]
}